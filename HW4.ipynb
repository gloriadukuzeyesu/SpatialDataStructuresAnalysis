{
 "cells": [
  {
   "cell_type": "code",
   "execution_count": null,
   "id": "97083327",
   "metadata": {},
   "outputs": [],
   "source": [
    "import matplotlib.pyplot as plt\n",
    "import pandas as pd\n",
    "import statsmodels.formula.api as sm\n"
   ]
  },
  {
   "cell_type": "code",
   "execution_count": null,
   "metadata": {},
   "outputs": [],
   "source": [
    "\n",
    "#load in the csv files \n",
    "# where N varies and D = 2 with fixed K \n",
    "df_1 = pd.read_csv('1vary_N_Fixed_D2_and_K.csv')"
   ]
  },
  {
   "cell_type": "code",
   "execution_count": null,
   "id": "d194e5f2",
   "metadata": {},
   "outputs": [],
   "source": [
    "# Filter the DataFrame for each data structure\n",
    "df1_kd = df_1[df_1['dataStructure'] == 'KD']\n",
    "df1_quad = df_1[df_1['dataStructure'] == 'Quad']\n",
    "df1_bucket = df_1[df_1['dataStructure'] == 'Bucket']"
   ]
  },
  {
   "cell_type": "code",
   "execution_count": null,
   "id": "7ca4774c",
   "metadata": {},
   "outputs": [],
   "source": [
    "# Create a single plot\n",
    "plt.figure(figsize=(10,6))\n",
    "\n",
    "\n",
    "# Convert average time from microseconds to seconds\n",
    "kd_avg_time_sec = df1_kd['AverageTime'] / 1000000\n",
    "quad_avg_time_sec = df1_quad['AverageTime'] / 1000000\n",
    "bucket_avg_time_sec = df1_bucket['AverageTime'] / 1000000\n",
    "\n",
    "# KD plot\n",
    "plt.plot(df1_kd['numTrainingPoints'], kd_avg_time_sec, marker='o', label='KD Tree')\n",
    "\n",
    "# QUAD plot\n",
    "plt.plot(df1_quad['numTrainingPoints'], quad_avg_time_sec, marker='o', label='Quad Tree')\n",
    "\n",
    "# Bucket plot\n",
    "plt.plot(df1_bucket['numTrainingPoints'], bucket_avg_time_sec, marker='o', label='Bucket Tree')\n",
    "\n",
    "# Set plot title and labels\n",
    "plt.title(' Comparison of Average Time\\nWhere N Varies and D = 2 with Fixed K')\n",
    "plt.xlabel('numTrainingPoints')\n",
    "plt.ylabel('Average Time (seconds)')\n",
    "\n",
    "# Add a legend\n",
    "plt.legend()\n",
    "\n",
    "# Show the plot\n",
    "plt.show()\n",
    "\n"
   ]
  },
  {
   "cell_type": "markdown",
   "id": "6df500fa",
   "metadata": {},
   "source": [
    "Linear regression"
   ]
  },
  {
   "cell_type": "code",
   "execution_count": null,
   "id": "0a62d6ce",
   "metadata": {},
   "outputs": [],
   "source": [
    "df1_kd['AverageTime'] = df1_kd['AverageTime'] / 1000000\n",
    "df1_quad['AverageTime'] = df1_quad['AverageTime'] / 1000000\n",
    "df1_bucket['AverageTime'] = df1_bucket['AverageTime'] / 1000000"
   ]
  },
  {
   "cell_type": "code",
   "execution_count": null,
   "id": "faeb6d7d",
   "metadata": {},
   "outputs": [],
   "source": [
    "plt.figure(figsize=(10,10))\n",
    "\n",
    "# KD Tree plot\n",
    "plt.subplot(3,1,1)\n",
    "lr_model_kd = sm.ols(formula= 'AverageTime ~ numTrainingPoints', data=df1_kd).fit()\n",
    "plt.plot(df1_kd['numTrainingPoints'], lr_model_kd.predict(), color = 'red')\n",
    "plt.xlabel('numTrainingPoints')\n",
    "plt.ylabel('AverageTime(seconds)')\n",
    "plt.title('KD Tree\\nAverageTime vs numTrainingPoints')\n",
    "\n",
    "# Quad Tree plot\n",
    "lr_model_quad = sm.ols(formula= 'AverageTime ~ numTrainingPoints', data=df1_quad).fit()\n",
    "plt.subplot(3,1,2)\n",
    "plt.plot(df1_quad['numTrainingPoints'], lr_model_quad.predict(), color = 'red')\n",
    "plt.xlabel('numTrainingPoints')\n",
    "plt.ylabel('AverageTime(seconds)')\n",
    "plt.title('QUAD Tree\\nAverageTime vs numTrainingPoints')\n",
    "\n",
    "# Bucket Tree plot\n",
    "lr_model_bucket = sm.ols(formula= 'AverageTime ~ numTrainingPoints', data=df1_bucket).fit()\n",
    "plt.subplot(3,1,3)\n",
    "plt.plot(df1_bucket['numTrainingPoints'], lr_model_bucket.predict(), color = 'red')\n",
    "plt.xlabel('numTrainingPoints')\n",
    "plt.ylabel('AverageTime(seconds)')\n",
    "plt.title('Bucket Tree\\nAverageTime vs numTrainingPoints')\n",
    "\n",
    "plt.tight_layout()  # Adjust spacing between subplots\n",
    "plt.show()\n"
   ]
  },
  {
   "cell_type": "markdown",
   "id": "d125dcbf",
   "metadata": {},
   "source": [
    "SUMMARY"
   ]
  },
  {
   "cell_type": "code",
   "execution_count": null,
   "id": "e96cf42e",
   "metadata": {},
   "outputs": [],
   "source": [
    "lr_model_kd.summary()"
   ]
  },
  {
   "cell_type": "code",
   "execution_count": null,
   "id": "1f7d252f",
   "metadata": {},
   "outputs": [],
   "source": [
    "lr_model_quad.summary()"
   ]
  },
  {
   "cell_type": "code",
   "execution_count": null,
   "id": "acec59dc",
   "metadata": {},
   "outputs": [],
   "source": [
    "lr_model_bucket.summary()"
   ]
  },
  {
   "cell_type": "code",
   "execution_count": null,
   "id": "c721c087",
   "metadata": {},
   "outputs": [],
   "source": [
    "# df_2: where K varies and D = 2 with fixed N \n",
    "df_2 = pd.read_csv(\"2vary_K_Fixed_D2_and_N.csv\")"
   ]
  },
  {
   "cell_type": "code",
   "execution_count": null,
   "id": "eac38fb1",
   "metadata": {},
   "outputs": [],
   "source": [
    "# Filter the DataFrame for each data structure\n",
    "df2_kd = df_2[df_2['dataStructure'] == 'KD']\n",
    "df2_quad = df_2[df_2['dataStructure'] == 'Quad']\n",
    "df2_bucket = df_2[df_2['dataStructure'] == 'Bucket']\n",
    "df2_bucket.columns"
   ]
  },
  {
   "cell_type": "code",
   "execution_count": null,
   "id": "a06855c5",
   "metadata": {},
   "outputs": [],
   "source": [
    "# Convert average time from microseconds to seconds\n",
    "df2_kd['AverageTime'] = df2_kd['AverageTime'] / 1000000\n",
    "df2_quad['AverageTime'] = df2_quad['AverageTime'] / 1000000\n",
    "df2_bucket['AverageTime'] = df2_bucket['AverageTime']  / 1000000\n",
    "\n",
    "# Create a single plot for all data structures\n",
    "plt.figure(figsize=(10, 6))\n",
    "\n",
    "# KD plot\n",
    "plt.plot(df2_kd['K'],df2_kd['AverageTime'] , marker='o', label='KD Tree')\n",
    "\n",
    "# QUAD plot\n",
    "plt.plot(df2_quad['K'], df2_quad['AverageTime'] , marker='o', label='Quad Tree')\n",
    "\n",
    "# Bucket plot\n",
    "plt.plot(df2_bucket['K'], df2_bucket['AverageTime'] , marker='o', label='Bucket Tree')\n",
    "\n",
    "plt.title('Comparison of Average Time\\nWhere K Varies and D = 2 with Fixed N')\n",
    "\n",
    "plt.xlabel('K')\n",
    "plt.ylabel('Average Time (seconds)')\n",
    "plt.legend()\n",
    "\n",
    "plt.show()\n"
   ]
  },
  {
   "cell_type": "markdown",
   "id": "43831ca0",
   "metadata": {},
   "source": [
    "linear regression "
   ]
  },
  {
   "cell_type": "code",
   "execution_count": null,
   "id": "c36a8042",
   "metadata": {},
   "outputs": [],
   "source": [
    "plt.figure(figsize=(10,10))\n",
    "\n",
    "# KD Tree plot\n",
    "plt.subplot(3,1,1)\n",
    "lr_model_kd2 = sm.ols(formula= 'AverageTime ~ K', data=df2_kd).fit()\n",
    "plt.plot(df2_kd['K'], lr_model_kd2.predict(), color = 'red')\n",
    "plt.xlabel('K')\n",
    "plt.ylabel('AverageTime(seconds)')\n",
    "plt.title('KD Tree\\nAverageTime vs K')\n",
    "\n",
    "# Quad Tree plot\n",
    "lr_model_quad2 = sm.ols(formula= 'AverageTime ~ K', data=df2_quad).fit()\n",
    "plt.subplot(3,1,2)\n",
    "plt.plot(df2_quad['K'], lr_model_quad2.predict(), color = 'red')\n",
    "plt.xlabel('K')\n",
    "plt.ylabel('AverageTime(seconds)')\n",
    "plt.title('QUAD Tree\\nAverageTime vs K')\n",
    "\n",
    "# Bucket Tree plot\n",
    "lr_model_bucket2 = sm.ols(formula= 'AverageTime ~ K', data=df2_bucket).fit()\n",
    "plt.subplot(3,1,3)\n",
    "plt.plot(df2_bucket['K'], lr_model_bucket2.predict(), color = 'red')\n",
    "plt.xlabel('K')\n",
    "plt.ylabel('AverageTime(seconds)')\n",
    "plt.title('Bucket Tree\\nAverageTime vs K')\n",
    "\n",
    "plt.tight_layout()  # Adjust spacing between subplots\n",
    "plt.show()\n"
   ]
  },
  {
   "cell_type": "markdown",
   "id": "6ce2538c",
   "metadata": {},
   "source": [
    "SUMMARY From Varying K , dim = 2 and Fixed N"
   ]
  },
  {
   "cell_type": "code",
   "execution_count": null,
   "id": "9ab91617",
   "metadata": {},
   "outputs": [],
   "source": [
    "lr_model_kd2.summary()"
   ]
  },
  {
   "cell_type": "code",
   "execution_count": null,
   "id": "d3603447",
   "metadata": {},
   "outputs": [],
   "source": [
    "lr_model_quad2.summary()"
   ]
  },
  {
   "cell_type": "code",
   "execution_count": null,
   "id": "dbe94b7e",
   "metadata": {},
   "outputs": [],
   "source": [
    "lr_model_bucket2.summary()"
   ]
  },
  {
   "cell_type": "code",
   "execution_count": null,
   "id": "a7718309",
   "metadata": {},
   "outputs": [],
   "source": [
    "# df_3: where D varies and Fixed N and fixed K \n",
    "df_3 = pd.read_csv(\"3vary_D_Fixed_N_and_K.csv\")\n",
    "df_3.head(30)"
   ]
  },
  {
   "cell_type": "code",
   "execution_count": null,
   "id": "ff78f8a9",
   "metadata": {},
   "outputs": [],
   "source": [
    "# Filter the DataFrame for each data structure\n",
    "df3_kd = df_3[df_3['dataStructure'] == 'KD']\n",
    "df3_bucket = df_3[df_3['dataStructure'] == 'Bucket']"
   ]
  },
  {
   "cell_type": "code",
   "execution_count": null,
   "id": "6c16a679",
   "metadata": {},
   "outputs": [],
   "source": [
    "df3_bucket.head()"
   ]
  },
  {
   "cell_type": "code",
   "execution_count": null,
   "id": "166f9a8f",
   "metadata": {},
   "outputs": [],
   "source": [
    "# Convert average time from microseconds to seconds\n",
    "kd_avg_time_sec3 =df3_kd['AverageTime'] / 1000000\n",
    "bucket_avg_time_sec3 = df3_bucket['AverageTime']  / 1000000\n",
    "\n",
    "# Create a single plot for all data structures\n",
    "plt.figure(figsize=(10, 6))\n",
    "\n",
    "# KD plot\n",
    "plt.plot(df3_kd['dim'],kd_avg_time_sec3 , marker='o', label='KD Tree')\n",
    "\n",
    "# Bucket plot\n",
    "plt.plot(df3_bucket['dim'], bucket_avg_time_sec3, marker='o', label='Bucket Tree')\n",
    "\n",
    "plt.title('Comparison of Average Time\\nWhere D Varies with Fixed K and with Fixed N')\n",
    "\n",
    "plt.xlabel('Dim')\n",
    "plt.ylabel('Average Time (seconds)')\n",
    "plt.legend()\n",
    "\n",
    "plt.show()"
   ]
  },
  {
   "cell_type": "markdown",
   "id": "c53afbe5",
   "metadata": {},
   "source": [
    "Linear regression with df_3"
   ]
  },
  {
   "cell_type": "code",
   "execution_count": null,
   "id": "0bb036bd",
   "metadata": {},
   "outputs": [],
   "source": [
    "df3_kd['AverageTime'] = df3_kd['AverageTime'] / 1000000\n",
    "df3_bucket['AverageTime'] = df3_bucket['AverageTime']  / 1000000"
   ]
  },
  {
   "cell_type": "code",
   "execution_count": null,
   "id": "bc881461",
   "metadata": {},
   "outputs": [],
   "source": [
    "plt.figure(figsize=(10, 10))\n",
    "\n",
    "# KD Tree plot\n",
    "plt.subplot(3,1,1)\n",
    "lr_model_kd3 = sm.ols(formula= 'AverageTime ~ dim', data=df3_kd).fit()\n",
    "plt.plot(df3_kd['dim'], lr_model_kd3.predict(), color = 'red')\n",
    "plt.xlabel('dim')\n",
    "plt.ylabel('AverageTime(seconds)')\n",
    "plt.title('KD Tree\\nAverageTime vs dim')\n",
    "\n",
    "# Bucket Tree plot\n",
    "lr_model_bucket3 = sm.ols(formula= 'AverageTime ~ dim', data=df3_bucket).fit()\n",
    "plt.subplot(3,1,2)\n",
    "plt.plot(df3_bucket['dim'], lr_model_bucket3.predict(), color = 'red')\n",
    "plt.xlabel('dim')\n",
    "plt.ylabel('AverageTime(seconds)')\n",
    "plt.title('Bucket Tree\\nAverageTime vs dim')\n",
    "\n",
    "plt.tight_layout()  # Adjust spacing between subplots\n",
    "plt.show()"
   ]
  },
  {
   "cell_type": "markdown",
   "id": "c5f4f280",
   "metadata": {},
   "source": [
    "SUMMARY, When varying dimension with fixed K and fixed N"
   ]
  },
  {
   "cell_type": "code",
   "execution_count": null,
   "id": "8941b28c",
   "metadata": {},
   "outputs": [],
   "source": [
    "lr_model_kd3.summary()"
   ]
  },
  {
   "cell_type": "code",
   "execution_count": null,
   "id": "bba24c96",
   "metadata": {},
   "outputs": [],
   "source": [
    "lr_model_bucket3.summary()"
   ]
  },
  {
   "cell_type": "code",
   "execution_count": null,
   "id": "5d357881",
   "metadata": {},
   "outputs": [],
   "source": [
    "#df_4: where K varies and Fixed D and fixed N\n",
    "df_4 = pd.read_csv(\"4vary_K_Fixed_D_and_N.csv\")\n"
   ]
  },
  {
   "cell_type": "code",
   "execution_count": null,
   "id": "805b4358",
   "metadata": {},
   "outputs": [],
   "source": [
    "# Filter the DataFrame for each data structure\n",
    "df4_kd = df_4[df_4['dataStructure'] == 'KD']\n",
    "df4_bucket = df_4[df_4['dataStructure'] == 'Bucket']"
   ]
  },
  {
   "cell_type": "code",
   "execution_count": null,
   "id": "22362f1a",
   "metadata": {},
   "outputs": [],
   "source": [
    "# Convert average time from microseconds to seconds\n",
    "df4_kd['AverageTime'] = df4_kd['AverageTime'] / 1000000\n",
    "df4_bucket['AverageTime'] = df4_bucket['AverageTime']  / 1000000"
   ]
  },
  {
   "cell_type": "code",
   "execution_count": null,
   "id": "d05d5486",
   "metadata": {},
   "outputs": [],
   "source": [
    "# Create a single plot for all data structures\n",
    "plt.figure(figsize=(10, 6))\n",
    "\n",
    "# KD plot\n",
    "plt.plot(df4_kd['K'],df4_kd['AverageTime']  , marker='o', label='KD Tree')\n",
    "\n",
    "# Bucket plot\n",
    "plt.plot(df4_bucket['K'], df4_bucket['AverageTime'] , marker='o', label='Bucket Tree')\n",
    "\n",
    "plt.title('Comparison of Average Time\\nWhere K Varies with Fixed D and with Fixed N')\n",
    "\n",
    "plt.xlabel('K')\n",
    "plt.ylabel('Average Time (seconds)')\n",
    "plt.legend()\n",
    "\n",
    "plt.show()"
   ]
  },
  {
   "cell_type": "markdown",
   "id": "2a2425d4",
   "metadata": {},
   "source": [
    "Linear regression where K varies and Fixed D and fixed N\n",
    "df_4"
   ]
  },
  {
   "cell_type": "code",
   "execution_count": null,
   "id": "43df13fc",
   "metadata": {},
   "outputs": [],
   "source": [
    "plt.figure(figsize=(10, 10))\n",
    "\n",
    "# KD Tree plot\n",
    "plt.subplot(3,1,1)\n",
    "lr_model_kd4 = sm.ols(formula= 'AverageTime ~ K', data=df4_kd).fit()\n",
    "plt.plot(df4_kd['K'], lr_model_kd4.predict(), color = 'red')\n",
    "plt.xlabel('K')\n",
    "plt.ylabel('AverageTime(seconds)')\n",
    "plt.title('KD Tree\\nAverageTime vs K')\n",
    "\n",
    "# Bucket Tree plot\n",
    "lr_model_bucket4 = sm.ols(formula= 'AverageTime ~ K', data=df4_bucket).fit()\n",
    "plt.subplot(3,1,2)\n",
    "plt.plot(df4_bucket['K'], lr_model_bucket4.predict(), color = 'red')\n",
    "plt.xlabel('K')\n",
    "plt.ylabel('AverageTime(seconds)')\n",
    "plt.title('Bucket Tree\\nAverageTime vs K')\n",
    "\n",
    "plt.tight_layout()  # Adjust spacing between subplots\n",
    "plt.show()"
   ]
  },
  {
   "cell_type": "markdown",
   "id": "38c173cf",
   "metadata": {},
   "source": [
    "SUMMARy when Varying K with fixed Dimension and fixed N"
   ]
  },
  {
   "cell_type": "code",
   "execution_count": null,
   "id": "33e9b328",
   "metadata": {},
   "outputs": [],
   "source": [
    "lr_model_kd4.summary()"
   ]
  },
  {
   "cell_type": "code",
   "execution_count": null,
   "id": "ed99ad95",
   "metadata": {},
   "outputs": [],
   "source": [
    "lr_model_bucket4.summary()"
   ]
  },
  {
   "cell_type": "code",
   "execution_count": null,
   "id": "0d856424",
   "metadata": {},
   "outputs": [],
   "source": [
    "df_5 = pd.read_csv(\"5vary_N_Fixed_K_and_D.csv\")\n",
    "\n",
    "# Filter the DataFrame for each data structure\n",
    "df5_kd = df_5[df_5['dataStructure'] == 'KD']\n",
    "df5_bucket = df_5[df_5['dataStructure'] == 'Bucket']"
   ]
  },
  {
   "cell_type": "code",
   "execution_count": null,
   "id": "672289e9",
   "metadata": {},
   "outputs": [],
   "source": [
    "# Convert average time from microseconds to seconds\n",
    "kd_avg_time_sec5 = df5_kd['AverageTime'] / 1000000\n",
    "bucket_avg_time_sec5 = df5_bucket['AverageTime']  / 1000000\n",
    "\n",
    "# Create a single plot for all data structures\n",
    "plt.figure(figsize=(10, 6))\n",
    "\n",
    "# KD plot\n",
    "plt.plot(df5_kd['numTrainingPoints'],kd_avg_time_sec5 , marker='o', label='KD Tree')\n",
    "\n",
    "# Bucket plot\n",
    "plt.plot(df5_bucket['numTrainingPoints'], bucket_avg_time_sec5, marker='o', label='Bucket Tree')\n",
    "\n",
    "plt.title('Comparison of Average Time\\nWhere N Varies with Fixed D and with Fixed K')\n",
    "\n",
    "plt.xlabel('numTrainingPoints')\n",
    "plt.ylabel('Average Time (seconds)')\n",
    "plt.legend()\n",
    "\n",
    "plt.show()"
   ]
  },
  {
   "cell_type": "markdown",
   "id": "c20f658f",
   "metadata": {},
   "source": [
    "Linear regresion Where N Varies with Fixed D and with Fixed K\n"
   ]
  },
  {
   "cell_type": "code",
   "execution_count": null,
   "id": "f66ae8c2",
   "metadata": {},
   "outputs": [],
   "source": [
    "df5_kd['AverageTime'] = df5_kd['AverageTime'] / 1000000\n",
    "df5_bucket['AverageTime'] = df5_bucket['AverageTime']  / 1000000"
   ]
  },
  {
   "cell_type": "code",
   "execution_count": null,
   "id": "282a2f93",
   "metadata": {},
   "outputs": [],
   "source": [
    "plt.figure(figsize=(10, 10))\n",
    "\n",
    "# KD Tree plot\n",
    "plt.subplot(3,1,1)\n",
    "lr_model_kd5 = sm.ols(formula= 'AverageTime ~ numTrainingPoints', data=df5_kd).fit()\n",
    "plt.plot(df5_kd['numTrainingPoints'], lr_model_kd5.predict(), color = 'red')\n",
    "plt.xlabel('numTrainingPoints')\n",
    "plt.ylabel('AverageTime(seconds)')\n",
    "plt.title('KD Tree\\nAverageTime vs numTrainingPoints')\n",
    "\n",
    "# Bucket Tree plot\n",
    "lr_model_bucket5 = sm.ols(formula= 'AverageTime ~ numTrainingPoints', data=df5_bucket).fit()\n",
    "plt.subplot(3,1,2)\n",
    "plt.plot(df5_bucket['numTrainingPoints'], lr_model_bucket5.predict(), color = 'red')\n",
    "plt.xlabel('numTrainingPoints')\n",
    "plt.ylabel('AverageTime(seconds)')\n",
    "plt.title('Bucket Tree\\nAverageTime vs numTrainingPoints')\n",
    "\n",
    "plt.tight_layout()  # Adjust spacing between subplots\n",
    "plt.show()"
   ]
  },
  {
   "cell_type": "markdown",
   "id": "7b7a65f0",
   "metadata": {},
   "source": [
    "SUMMARY when varying N with fixed K and fixed D"
   ]
  },
  {
   "cell_type": "code",
   "execution_count": null,
   "id": "96bda7de",
   "metadata": {},
   "outputs": [],
   "source": [
    "lr_model_kd5.summary()"
   ]
  },
  {
   "cell_type": "code",
   "execution_count": null,
   "id": "7591d159",
   "metadata": {},
   "outputs": [],
   "source": [
    "lr_model_bucket5.summary()"
   ]
  }
 ],
 "metadata": {
  "kernelspec": {
   "display_name": "Python 3.11.3 64-bit",
   "language": "python",
   "name": "python3"
  },
  "language_info": {
   "codemirror_mode": {
    "name": "ipython",
    "version": 3
   },
   "file_extension": ".py",
   "mimetype": "text/x-python",
   "name": "python",
   "nbconvert_exporter": "python",
   "pygments_lexer": "ipython3",
   "version": "3.11.3"
  },
  "vscode": {
   "interpreter": {
    "hash": "b0fa6594d8f4cbf19f97940f81e996739fb7646882a419484c72d19e05852a7e"
   }
  }
 },
 "nbformat": 4,
 "nbformat_minor": 5
}
